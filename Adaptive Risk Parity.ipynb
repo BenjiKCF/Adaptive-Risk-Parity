{
 "cells": [
  {
   "cell_type": "code",
   "execution_count": 1,
   "metadata": {},
   "outputs": [],
   "source": [
    "from datetime import datetime, date\n",
    "import math\n",
    "import numpy as np\n",
    "import time\n",
    "import sys\n",
    "import requests"
   ]
  },
  {
   "cell_type": "code",
   "execution_count": 19,
   "metadata": {},
   "outputs": [],
   "source": [
    "# if len(sys.argv) == 1:\n",
    "#     symbols = ['UPRO', 'TMF']\n",
    "# else:\n",
    "#     symbols = sys.argv[1].split(',')\n",
    "#     for i in range(len(symbols)):\n",
    "#         symbols[i] = symbols[i].strip().upper()\n",
    "symbols = ['TQQQ', 'TMF']"
   ]
  },
  {
   "cell_type": "code",
   "execution_count": 20,
   "metadata": {},
   "outputs": [],
   "source": [
    "num_trading_days_per_year = 252\n",
    "window_size = 20\n",
    "date_format = \"%Y-%m-%d\"\n",
    "end_timestamp = int(time.time())\n",
    "start_timestamp = int(end_timestamp - (1.4 * (window_size + 1) + 4) * 86400)"
   ]
  },
  {
   "cell_type": "code",
   "execution_count": 21,
   "metadata": {},
   "outputs": [],
   "source": [
    "def get_volatility_and_performance(symbol):\n",
    "    download_url = \"https://query1.finance.yahoo.com/v7/finance/download/{}?period1={}&period2={}&interval=1d&events=history&crumb=a7pcO//zvcW\".format(symbol, start_timestamp, end_timestamp)\n",
    "    lines = requests.get(download_url, cookies={'B': 'chjes25epq9b6&b=3&s=18'}).text.strip().split('\\n')\n",
    "    #print(download_url)\n",
    "    assert lines[0].split(',')[0] == 'Date'\n",
    "    assert lines[0].split(',')[4] == 'Close'\n",
    "    prices = []\n",
    "    for line in lines[1:]:\n",
    "        prices.append(float(line.split(',')[4]))\n",
    "\n",
    "    prices.reverse()\n",
    "\n",
    "    volatilities_in_window = []\n",
    "\n",
    "    for i in range(window_size):\n",
    "        volatilities_in_window.append(math.log(prices[i] / prices[i+1]))\n",
    "        \n",
    "    most_recent_date = datetime.strptime(lines[-1].split(',')[0], date_format).date()\n",
    "    assert (date.today() - most_recent_date).days <= 4, \"today is {}, most recent trading day is {}\".format(date.today(), most_recent_date)\n",
    "\n",
    "    return np.std(volatilities_in_window, ddof = 1) * np.sqrt(num_trading_days_per_year), prices[0] / prices[window_size] - 1.0"
   ]
  },
  {
   "cell_type": "code",
   "execution_count": 22,
   "metadata": {},
   "outputs": [
    {
     "name": "stdout",
     "output_type": "stream",
     "text": [
      "Portfolio: ['TQQQ', 'TMF'], as of 2020-07-15 (window size is 20 days)\n",
      "TQQQ allocation ratio: 36.62% (anualized volatility: 62.65%, performance: 28.94%)\n",
      "TMF allocation ratio: 63.38% (anualized volatility: 36.20%, performance: 8.46%)\n"
     ]
    }
   ],
   "source": [
    "volatilities = []\n",
    "performances = []\n",
    "sum_inverse_volatility = 0.0\n",
    "for symbol in symbols:\n",
    "    volatility, performance = get_volatility_and_performance(symbol)\n",
    "    sum_inverse_volatility += 1 / volatility\n",
    "    volatilities.append(volatility)\n",
    "    performances.append(performance)\n",
    "\n",
    "print (\"Portfolio: {}, as of {} (window size is {} days)\".format(str(symbols), date.today().strftime('%Y-%m-%d'), window_size))\n",
    "for i in range(len(symbols)):\n",
    "    print ('{} allocation ratio: {:.2f}% (anualized volatility: {:.2f}%, performance: {:.2f}%)'.format(symbols[i], float(100 / (volatilities[i] * sum_inverse_volatility)), float(volatilities[i] * 100), float(performances[i] * 100)))"
   ]
  },
  {
   "cell_type": "code",
   "execution_count": null,
   "metadata": {},
   "outputs": [],
   "source": []
  }
 ],
 "metadata": {
  "kernelspec": {
   "display_name": "Python 3",
   "language": "python",
   "name": "python3"
  },
  "language_info": {
   "codemirror_mode": {
    "name": "ipython",
    "version": 3
   },
   "file_extension": ".py",
   "mimetype": "text/x-python",
   "name": "python",
   "nbconvert_exporter": "python",
   "pygments_lexer": "ipython3",
   "version": "3.7.5"
  }
 },
 "nbformat": 4,
 "nbformat_minor": 2
}
