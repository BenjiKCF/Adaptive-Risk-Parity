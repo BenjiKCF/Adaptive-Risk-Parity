{
 "cells": [
  {
   "cell_type": "code",
   "execution_count": 5,
   "metadata": {},
   "outputs": [],
   "source": [
    "from datetime import datetime, date\n",
    "import math\n",
    "import numpy as np\n",
    "import time\n",
    "import sys\n",
    "import requests\n",
    "\n",
    "\n",
    "if len(sys.argv) == 1:\n",
    "    calculation_mode = False\n",
    "    \n",
    "else:\n",
    "    calculation_mode = True\n",
    "    shares = sys.argv[1].split(',')\n",
    "    shares = [float(i) for i in shares]\n",
    "    \n",
    "symbols = ['TQQQ', 'TMF']\n",
    "num_trading_days_per_year = 252\n",
    "window_size = 20\n",
    "date_format = \"%Y-%m-%d\"\n",
    "end_timestamp = int(time.time())\n",
    "start_timestamp = int(end_timestamp - (1.4 * (window_size + 1) + 4) * 86400)\n",
    "\n",
    "\n",
    "def get_volatility_and_performance(symbol):\n",
    "    download_url = \"https://query1.finance.yahoo.com/v7/finance/download/{}?period1={}&period2={}&interval=1d&events=history&crumb=a7pcO//zvcW\".format(symbol, start_timestamp, end_timestamp)\n",
    "    lines = requests.get(download_url, cookies={'B': 'chjes25epq9b6&b=3&s=18'}).text.strip().split('\\n')\n",
    "    assert lines[0].split(',')[0] == 'Date'\n",
    "    assert lines[0].split(',')[4] == 'Close'\n",
    "    prices = []\n",
    "    for line in lines[1:]:\n",
    "        prices.append(float(line.split(',')[4]))\n",
    "    #print(download_url)\n",
    "    last_price = prices[-1]\n",
    "    prices.reverse()\n",
    "    volatilities_in_window = []\n",
    "\n",
    "    for i in range(window_size):\n",
    "        volatilities_in_window.append(math.log(prices[i] / prices[i+1]))\n",
    "        \n",
    "    most_recent_date = datetime.strptime(lines[-1].split(',')[0], date_format).date()\n",
    "    assert (date.today() - most_recent_date).days <= 4, \"today is {}, most recent trading day is {}\".format(date.today(), most_recent_date)\n",
    "\n",
    "    return np.std(volatilities_in_window, ddof = 1) * np.sqrt(num_trading_days_per_year), prices[0] / prices[window_size] - 1.0, last_price\n",
    "\n",
    "volatilities = []\n",
    "performances = []\n",
    "sum_inverse_volatility = 0.0\n",
    "for symbol in symbols:\n",
    "    volatility, performance, last_price = get_volatility_and_performance(symbol)\n",
    "    sum_inverse_volatility += 1 / volatility\n",
    "    volatilities.append(volatility)\n",
    "    performances.append(performance)\n",
    "\n",
    "if calculation_mode == False:\n",
    "    print (\"Portfolio: {}, as of {} (window size is {} days)\".format(str(symbols), date.today().strftime('%Y-%m-%d'), window_size))\n",
    "    for i in range(len(symbols)):\n",
    "        print ('{} allocation ratio: {:.2f}% (anualized volatility: {:.2f}%, performance: {:.2f}%)'.format(symbols[i], float(100 / (volatilities[i] * sum_inverse_volatility)), float(volatilities[i] * 100), float(performances[i] * 100)))"
   ]
  },
  {
   "cell_type": "code",
   "execution_count": 6,
   "metadata": {},
   "outputs": [
    {
     "ename": "TypeError",
     "evalue": "'map' object is not subscriptable",
     "output_type": "error",
     "traceback": [
      "\u001b[0;31m---------------------------------------------------------------------------\u001b[0m",
      "\u001b[0;31mTypeError\u001b[0m                                 Traceback (most recent call last)",
      "\u001b[0;32m<ipython-input-6-0ec2a150b06e>\u001b[0m in \u001b[0;36m<module>\u001b[0;34m\u001b[0m\n\u001b[1;32m      3\u001b[0m     \u001b[0;31m#shares = [177, 425]\u001b[0m\u001b[0;34m\u001b[0m\u001b[0;34m\u001b[0m\u001b[0;34m\u001b[0m\u001b[0m\n\u001b[1;32m      4\u001b[0m     \u001b[0;32mfor\u001b[0m \u001b[0mi\u001b[0m \u001b[0;32min\u001b[0m \u001b[0mrange\u001b[0m\u001b[0;34m(\u001b[0m\u001b[0mlen\u001b[0m\u001b[0;34m(\u001b[0m\u001b[0msymbols\u001b[0m\u001b[0;34m)\u001b[0m\u001b[0;34m)\u001b[0m\u001b[0;34m:\u001b[0m\u001b[0;34m\u001b[0m\u001b[0;34m\u001b[0m\u001b[0m\n\u001b[0;32m----> 5\u001b[0;31m         \u001b[0mdicts\u001b[0m\u001b[0;34m[\u001b[0m\u001b[0msymbols\u001b[0m\u001b[0;34m[\u001b[0m\u001b[0mi\u001b[0m\u001b[0;34m]\u001b[0m\u001b[0;34m]\u001b[0m \u001b[0;34m=\u001b[0m \u001b[0mshares\u001b[0m\u001b[0;34m[\u001b[0m\u001b[0mi\u001b[0m\u001b[0;34m]\u001b[0m\u001b[0;34m\u001b[0m\u001b[0;34m\u001b[0m\u001b[0m\n\u001b[0m\u001b[1;32m      6\u001b[0m \u001b[0;34m\u001b[0m\u001b[0m\n\u001b[1;32m      7\u001b[0m \u001b[0;34m\u001b[0m\u001b[0m\n",
      "\u001b[0;31mTypeError\u001b[0m: 'map' object is not subscriptable"
     ]
    }
   ],
   "source": [
    "if calculation_mode == True:\n",
    "    dicts = {}\n",
    "    #shares = [177, 425]\n",
    "    for i in range(len(symbols)):\n",
    "        dicts[symbols[i]] = shares[i]\n",
    "\n",
    "\n",
    "    amounts = []\n",
    "    for i in range(len(symbols)):\n",
    "        symbol = symbols[i]\n",
    "        volatility, performance, last_price = get_volatility_and_performance(symbol)\n",
    "        amount = last_price * dicts[symbol]\n",
    "        amounts.append(amount)\n",
    "\n",
    "\n",
    "    print (\"Portfolio: {}, as of {} (window size is {} days)\".format(str(symbols), date.today().strftime('%Y-%m-%d'), window_size))\n",
    "\n",
    "    for i in range(len(symbols)):\n",
    "        symbol = symbols[i]\n",
    "        volatility, performance, last_price = get_volatility_and_performance(symbol)\n",
    "        amount = last_price * dicts[symbol]\n",
    "        current_ratio = amount/sum(amounts)*100\n",
    "        target_ratio  = float(100/(volatilities[i]*sum_inverse_volatility))\n",
    "        print(\"Current {} allocation ratio: {:.2f}%, amount: {:.2f}\".format(symbol, current_ratio, amount))\n",
    "        print(\"Target {} allocation ratio: {:.2f}%, amount: {:.2f}\".format(symbol, target_ratio, amounts[i]/current_ratio*target_ratio))\n",
    "        diff = amount-(amounts[i]/current_ratio*target_ratio)\n",
    "        if  diff> 0:\n",
    "            print(\"Sell ${:.2f} or {:.2f} shares of {}\".format(diff, diff/last_price, symbol))\n",
    "        else:\n",
    "            print(\"Buy ${:.2f} or {:.2f} shares of {}\".format(abs(diff), abs(diff/last_price), symbol))\n",
    "        print('\\n')"
   ]
  },
  {
   "cell_type": "code",
   "execution_count": null,
   "metadata": {},
   "outputs": [],
   "source": []
  },
  {
   "cell_type": "code",
   "execution_count": null,
   "metadata": {},
   "outputs": [],
   "source": []
  }
 ],
 "metadata": {
  "kernelspec": {
   "display_name": "Python 3",
   "language": "python",
   "name": "python3"
  },
  "language_info": {
   "codemirror_mode": {
    "name": "ipython",
    "version": 3
   },
   "file_extension": ".py",
   "mimetype": "text/x-python",
   "name": "python",
   "nbconvert_exporter": "python",
   "pygments_lexer": "ipython3",
   "version": "3.7.5"
  }
 },
 "nbformat": 4,
 "nbformat_minor": 2
}
